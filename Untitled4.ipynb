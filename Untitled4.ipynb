{
  "nbformat": 4,
  "nbformat_minor": 0,
  "metadata": {
    "colab": {
      "provenance": [],
      "authorship_tag": "ABX9TyNeER837n55LDU+cCZowMr7",
      "include_colab_link": true
    },
    "kernelspec": {
      "name": "ir",
      "display_name": "R"
    },
    "language_info": {
      "name": "R"
    }
  },
  "cells": [
    {
      "cell_type": "markdown",
      "metadata": {
        "id": "view-in-github",
        "colab_type": "text"
      },
      "source": [
        "<a href=\"https://colab.research.google.com/github/B35783/Sergio-Mastrangelo/blob/main/Untitled4.ipynb\" target=\"_parent\"><img src=\"https://colab.research.google.com/assets/colab-badge.svg\" alt=\"Open In Colab\"/></a>"
      ]
    },
    {
      "cell_type": "code",
      "execution_count": null,
      "metadata": {
        "id": "2dTp4jM5hTzW"
      },
      "outputs": [],
      "source": []
    },
    {
      "cell_type": "markdown",
      "source": [
        "1️⃣ Instalar e carregar os pacotes"
      ],
      "metadata": {
        "id": "sedOoJoLhYZY"
      }
    },
    {
      "cell_type": "code",
      "source": [
        "install.packages(c(\"rbcb\", \"urca\", \"vars\", \"tsDyn\", \"tidyverse\"))\n",
        "library(rbcb)\n",
        "library(urca)\n",
        "library(vars)\n",
        "library(tsDyn)\n",
        "library(tidyverse)\n"
      ],
      "metadata": {
        "colab": {
          "base_uri": "https://localhost:8080/"
        },
        "id": "msXbTOTZhaqC",
        "outputId": "2a552894-5733-4181-d689-54c8a159a324"
      },
      "execution_count": 1,
      "outputs": [
        {
          "output_type": "stream",
          "name": "stderr",
          "text": [
            "Installing packages into ‘/usr/local/lib/R/site-library’\n",
            "(as ‘lib’ is unspecified)\n",
            "\n",
            "also installing the dependencies ‘TTR’, ‘zoo’, ‘deSolve’, ‘quadprog’, ‘quantmod’, ‘colorspace’, ‘fracdiff’, ‘timeDate’, ‘RcppArmadillo’, ‘iterators’, ‘xts’, ‘strucchange’, ‘lmtest’, ‘sandwich’, ‘mnormt’, ‘tseriesChaos’, ‘tseries’, ‘forecast’, ‘foreach’\n",
            "\n",
            "\n",
            "Loading required package: MASS\n",
            "\n",
            "Loading required package: strucchange\n",
            "\n",
            "Loading required package: zoo\n",
            "\n",
            "\n",
            "Attaching package: ‘zoo’\n",
            "\n",
            "\n",
            "The following objects are masked from ‘package:base’:\n",
            "\n",
            "    as.Date, as.Date.numeric\n",
            "\n",
            "\n",
            "Loading required package: sandwich\n",
            "\n",
            "Loading required package: lmtest\n",
            "\n",
            "Registered S3 method overwritten by 'quantmod':\n",
            "  method            from\n",
            "  as.zoo.data.frame zoo \n",
            "\n",
            "── \u001b[1mAttaching core tidyverse packages\u001b[22m ──────────────────────── tidyverse 2.0.0 ──\n",
            "\u001b[32m✔\u001b[39m \u001b[34mdplyr    \u001b[39m 1.1.4     \u001b[32m✔\u001b[39m \u001b[34mreadr    \u001b[39m 2.1.5\n",
            "\u001b[32m✔\u001b[39m \u001b[34mforcats  \u001b[39m 1.0.0     \u001b[32m✔\u001b[39m \u001b[34mstringr  \u001b[39m 1.5.1\n",
            "\u001b[32m✔\u001b[39m \u001b[34mggplot2  \u001b[39m 3.5.2     \u001b[32m✔\u001b[39m \u001b[34mtibble   \u001b[39m 3.3.0\n",
            "\u001b[32m✔\u001b[39m \u001b[34mlubridate\u001b[39m 1.9.4     \u001b[32m✔\u001b[39m \u001b[34mtidyr    \u001b[39m 1.3.1\n",
            "\u001b[32m✔\u001b[39m \u001b[34mpurrr    \u001b[39m 1.0.4     \n",
            "── \u001b[1mConflicts\u001b[22m ────────────────────────────────────────── tidyverse_conflicts() ──\n",
            "\u001b[31m✖\u001b[39m \u001b[34mstringr\u001b[39m::\u001b[32mboundary()\u001b[39m masks \u001b[34mstrucchange\u001b[39m::boundary()\n",
            "\u001b[31m✖\u001b[39m \u001b[34mdplyr\u001b[39m::\u001b[32mfilter()\u001b[39m     masks \u001b[34mstats\u001b[39m::filter()\n",
            "\u001b[31m✖\u001b[39m \u001b[34mdplyr\u001b[39m::\u001b[32mlag()\u001b[39m        masks \u001b[34mstats\u001b[39m::lag()\n",
            "\u001b[31m✖\u001b[39m \u001b[34mdplyr\u001b[39m::\u001b[32mselect()\u001b[39m     masks \u001b[34mMASS\u001b[39m::select()\n",
            "\u001b[36mℹ\u001b[39m Use the conflicted package (\u001b[3m\u001b[34m<http://conflicted.r-lib.org/>\u001b[39m\u001b[23m) to force all conflicts to become errors\n"
          ]
        }
      ]
    },
    {
      "cell_type": "markdown",
      "source": [
        "2️⃣ Buscar as séries reais no BCB"
      ],
      "metadata": {
        "id": "-HvmH8m7ho85"
      }
    },
    {
      "cell_type": "code",
      "source": [
        "# Agora vamos buscar quatro séries:\n",
        "\n",
        "# PIB (Código 4380 — IBGE, trimestral)\n",
        "# IPCA (Código 433 — mensal, faremos agregação trimestral)\n",
        "# SELIC (Código 1178 — anualizada, mensal, também agregaremos)\n",
        "# Câmbio (USD/BRL) (Código 1 — diário, faremos média trimestral)\n",
        "\n",
        "# 2.1. Buscar PIB trimestral:\n",
        "pib <- get_series(4380, start_date = \"2000-01-01\", end_date = \"2024-12-31\") %>%\n",
        "  mutate(date = as.Date(date)) %>%\n",
        "  arrange(date)\n",
        "# 2.2. Buscar IPCA mensal:\n",
        "ipca <- get_series(433, start_date = \"2000-01-01\", end_date = \"2024-12-31\") %>%\n",
        "  mutate(date = as.Date(date)) %>%\n",
        "  arrange(date)\n",
        "# 2.3. Buscar SELIC mensal:\n",
        "selic <- get_series(1178, start_date = \"2000-01-01\", end_date = \"2024-12-31\") %>%\n",
        "  mutate(date = as.Date(date)) %>%\n",
        "  arrange(date)\n",
        "# 2.4. Buscar câmbio diário:\n",
        "cambio <- get_series(1, start_date = \"2000-01-01\", end_date = \"2024-12-31\") %>%\n",
        "  mutate(date = as.Date(date)) %>%\n",
        "  arrange(date)"
      ],
      "metadata": {
        "colab": {
          "base_uri": "https://localhost:8080/",
          "height": 1000
        },
        "id": "6wY7Siddhtc5",
        "outputId": "22ab3cc6-aa70-488b-9476-e71207618542"
      },
      "execution_count": 8,
      "outputs": [
        {
          "output_type": "error",
          "ename": "ERROR",
          "evalue": "\u001b[1m\u001b[33mError\u001b[39m in `map()`:\u001b[22m\n\u001b[1m\u001b[22m\u001b[36mℹ\u001b[39m In index: 1.\n\u001b[36mℹ\u001b[39m With name: 1178.\n\u001b[1mCaused by error in `http_getter()`:\u001b[22m\n\u001b[33m!\u001b[39m Request error 406\nURL:https://api.bcb.gov.br/dados/serie/bcdata.sgs.1178/dados?formato=json&dataInicial=01%2F01%2F2000&dataFinal=31%2F12%2F2024\n",
          "traceback": [
            "\u001b[1m\u001b[33mError\u001b[39m in `map()`:\u001b[22m\n\u001b[1m\u001b[22m\u001b[36mℹ\u001b[39m In index: 1.\n\u001b[36mℹ\u001b[39m With name: 1178.\n\u001b[1mCaused by error in `http_getter()`:\u001b[22m\n\u001b[33m!\u001b[39m Request error 406\nURL:https://api.bcb.gov.br/dados/serie/bcdata.sgs.1178/dados?formato=json&dataInicial=01%2F01%2F2000&dataFinal=31%2F12%2F2024\nTraceback:\n",
            "1. arrange(., date)",
            "2. mutate(., date = as.Date(date))",
            "3. get_series(1178, start_date = \"2000-01-01\", end_date = \"2024-12-31\")",
            "4. rbcb_get(objs, start_date, end_date, last)",
            "5. rbcb_get.sgs(objs, start_date, end_date, last)",
            "6. map_dfr(x, function(ser) {\n .     url <- sgs_url(ser, from, to, last)\n .     f <- http_download(\"get\", url)\n .     sgs_create_series(ser, f)\n . })",
            "7. map(.x, .f, ...)",
            "8. map_(\"list\", .x, .f, ..., .progress = .progress)",
            "9. with_indexed_errors(i = i, names = names, error_call = .purrr_error_call, \n .     call_with_cleanup(map_impl, environment(), .type, .progress, \n .         n, names, i))",
            "10. withCallingHandlers(expr, error = function(cnd) {\n  .     if (i == 0L) {\n  .     }\n  .     else {\n  .         message <- c(i = \"In index: {i}.\")\n  .         if (!is.null(names) && !is.na(names[[i]]) && names[[i]] != \n  .             \"\") {\n  .             name <- names[[i]]\n  .             message <- c(message, i = \"With name: {name}.\")\n  .         }\n  .         else {\n  .             name <- NULL\n  .         }\n  .         cli::cli_abort(message, location = i, name = name, parent = cnd, \n  .             call = error_call, class = \"purrr_error_indexed\")\n  .     }\n  . })",
            "11. call_with_cleanup(map_impl, environment(), .type, .progress, \n  .     n, names, i)",
            "12. .f(.x[[i]], ...)",
            "13. http_download(\"get\", url)",
            "14. http_getter(...)",
            "15. stop(msg, \"URL:\", url)",
            "16. .handleSimpleError(function (cnd) \n  . {\n  .     if (i == 0L) {\n  .     }\n  .     else {\n  .         message <- c(i = \"In index: {i}.\")\n  .         if (!is.null(names) && !is.na(names[[i]]) && names[[i]] != \n  .             \"\") {\n  .             name <- names[[i]]\n  .             message <- c(message, i = \"With name: {name}.\")\n  .         }\n  .         else {\n  .             name <- NULL\n  .         }\n  .         cli::cli_abort(message, location = i, name = name, parent = cnd, \n  .             call = error_call, class = \"purrr_error_indexed\")\n  .     }\n  . }, \"Request error 406\\nURL:https://api.bcb.gov.br/dados/serie/bcdata.sgs.1178/dados?formato=json&dataInicial=01%2F01%2F2000&dataFinal=31%2F12%2F2024\", \n  .     base::quote(http_getter(...)))",
            "17. h(simpleError(msg, call))",
            "18. cli::cli_abort(message, location = i, name = name, parent = cnd, \n  .     call = error_call, class = \"purrr_error_indexed\")",
            "19. rlang::abort(message, ..., call = call, use_cli_format = TRUE, \n  .     .frame = .frame)",
            "20. signal_abort(cnd, .file)",
            "21. signalCondition(cnd)"
          ]
        }
      ]
    },
    {
      "cell_type": "markdown",
      "source": [
        "3️⃣ Transformar todas as séries para periodicidade trimestral\n",
        "Agora precisamos agregá-las para mesma frequência (trimestral):\n"
      ],
      "metadata": {
        "id": "q9tNk_L8iCtp"
      }
    },
    {
      "cell_type": "code",
      "source": [
        "# Transformar todas as séries para periodicidade trimestral\n",
        "# Agora precisamos agregá-las para mesma frequência (trimestral):\n",
        "\n",
        "# Carregar pacotes auxiliares\n",
        "library(lubridate)\n",
        "library(zoo)\n",
        "\n",
        "# Função de agregação trimestral\n",
        "to_quarterly <- function(df, value_col) {\n",
        "  df %>%\n",
        "    mutate(year_quarter = as.yearqtr(date)) %>%\n",
        "    group_by(year_quarter) %>%\n",
        "    summarise(value = mean(.data[[value_col]], na.rm = TRUE)) %>%\n",
        "    ungroup()\n",
        "}\n",
        "\n",
        "pib_q <- pib %>% to_quarterly(\"value\")\n",
        "ipca_q <- ipca %>% to_quarterly(\"value\")\n",
        "selic_q <- selic %>% to_quarterly(\"value\")\n",
        "cambio_q <- cambio %>% to_quarterly(\"value\")"
      ],
      "metadata": {
        "colab": {
          "base_uri": "https://localhost:8080/",
          "height": 1000
        },
        "id": "wqhHTDhKiIAb",
        "outputId": "eb771ece-bc25-462e-8b71-a6534f2b9c6e"
      },
      "execution_count": 11,
      "outputs": [
        {
          "output_type": "error",
          "ename": "ERROR",
          "evalue": "\u001b[1m\u001b[33mError\u001b[39m in `summarise()`:\u001b[22m\n\u001b[1m\u001b[22m\u001b[36mℹ\u001b[39m In argument: `value = mean(.data[[\"value\"]], na.rm = TRUE)`.\n\u001b[36mℹ\u001b[39m In group 1: `year_quarter = 2000 Q1`.\n\u001b[1mCaused by error in `.data[[\"value\"]]`:\u001b[22m\n\u001b[1m\u001b[22m\u001b[33m!\u001b[39m Column `value` not found in `.data`.\n",
          "traceback": [
            "\u001b[1m\u001b[33mError\u001b[39m in `summarise()`:\u001b[22m\n\u001b[1m\u001b[22m\u001b[36mℹ\u001b[39m In argument: `value = mean(.data[[\"value\"]], na.rm = TRUE)`.\n\u001b[36mℹ\u001b[39m In group 1: `year_quarter = 2000 Q1`.\n\u001b[1mCaused by error in `.data[[\"value\"]]`:\u001b[22m\n\u001b[1m\u001b[22m\u001b[33m!\u001b[39m Column `value` not found in `.data`.\nTraceback:\n",
            "1. to_quarterly(., \"value\")",
            "2. df %>% mutate(year_quarter = as.yearqtr(date)) %>% group_by(year_quarter) %>% \n .     summarise(value = mean(.data[[value_col]], na.rm = TRUE)) %>% \n .     ungroup()",
            "3. ungroup(.)",
            "4. summarise(., value = mean(.data[[value_col]], na.rm = TRUE))",
            "5. summarise.grouped_df(., value = mean(.data[[value_col]], na.rm = TRUE))",
            "6. summarise_cols(.data, dplyr_quosures(...), by, \"summarise\")",
            "7. withCallingHandlers({\n .     for (i in seq_along(dots)) {\n .         poke_error_context(dots, i, mask = mask)\n .         context_poke(\"column\", old_current_column)\n .         dot <- dots[[i]]\n .         dot <- expand_pick(dot, mask)\n .         quosures <- expand_across(dot)\n .         quosures_results <- map(quosures, summarise_eval_one, \n .             mask = mask)\n .         for (k in seq_along(quosures)) {\n .             quo <- quosures[[k]]\n .             quo_data <- attr(quo, \"dplyr:::data\")\n .             quo_result <- quosures_results[[k]]\n .             if (is.null(quo_result)) {\n .                 next\n .             }\n .             types_k <- quo_result$types\n .             chunks_k <- quo_result$chunks\n .             results_k <- quo_result$results\n .             if (!quo_data$is_named && is.data.frame(types_k)) {\n .                 chunks_extracted <- .Call(dplyr_extract_chunks, \n .                   chunks_k, types_k)\n .                 types_k_names <- names(types_k)\n .                 for (j in seq_along(chunks_extracted)) {\n .                   mask$add_one(name = types_k_names[j], chunks = chunks_extracted[[j]], \n .                     result = results_k[[j]])\n .                 }\n .                 chunks <- append(chunks, chunks_extracted)\n .                 types <- append(types, as.list(types_k))\n .                 results <- append(results, results_k)\n .                 out_names <- c(out_names, types_k_names)\n .             }\n .             else {\n .                 name <- dplyr_quosure_name(quo_data)\n .                 mask$add_one(name = name, chunks = chunks_k, \n .                   result = results_k)\n .                 chunks <- append(chunks, list(chunks_k))\n .                 types <- append(types, list(types_k))\n .                 results <- append(results, list(results_k))\n .                 out_names <- c(out_names, name)\n .             }\n .         }\n .     }\n .     sizes <- .Call(dplyr_summarise_recycle_chunks_in_place, chunks, \n .         results)\n .     for (i in seq_along(chunks)) {\n .         result <- results[[i]] %||% vec_c(!!!chunks[[i]], .ptype = types[[i]])\n .         cols[[out_names[i]]] <- result\n .     }\n . }, error = function(cnd) {\n .     if (inherits(cnd, \"dplyr:::summarise_incompatible_size\")) {\n .         action <- \"recycle\"\n .         i <- cnd$dplyr_error_data$index\n .     }\n .     else {\n .         action <- \"compute\"\n .         i <- i\n .     }\n .     handler <- dplyr_error_handler(dots = dots, mask = mask, \n .         bullets = summarise_bullets, error_call = error_call, \n .         action = action)\n .     handler(cnd)\n . }, warning = dplyr_warning_handler(state = warnings_state, mask = mask, \n .     error_call = error_call))",
            "8. map(quosures, summarise_eval_one, mask = mask)",
            "9. lapply(.x, .f, ...)",
            "10. FUN(X[[i]], ...)",
            "11. mask$eval_all_summarise(quo)",
            "12. eval()",
            "13. mean(.data[[\"value\"]], na.rm = TRUE)",
            "14. .data[[\"value\"]]",
            "15. `[[.rlang_data_pronoun`(.data, \"value\")",
            "16. data_pronoun_get(x, i, call = I(call(\"[[\", quote(.data), substitute(i))))",
            "17. abort_data_pronoun(x, call = y)",
            "18. abort(msg, \"rlang_error_data_pronoun_not_found\", call = call)",
            "19. signal_abort(cnd, .file)",
            "20. signalCondition(cnd)",
            "21. (function (cnd) \n  . {\n  .     if (inherits(cnd, \"dplyr:::summarise_incompatible_size\")) {\n  .         action <- \"recycle\"\n  .         i <- cnd$dplyr_error_data$index\n  .     }\n  .     else {\n  .         action <- \"compute\"\n  .         i <- i\n  .     }\n  .     handler <- dplyr_error_handler(dots = dots, mask = mask, \n  .         bullets = summarise_bullets, error_call = error_call, \n  .         action = action)\n  .     handler(cnd)\n  . })(structure(list(message = \"Column `value` not found in `.data`.\", \n  .     trace = structure(list(call = list(IRkernel::main(), kernel$run(), \n  .         handle_shell(), executor$execute(msg), tryCatch(evaluate(request$content$code, \n  .             envir = .GlobalEnv, output_handler = oh, stop_on_error = 1L), \n  .             interrupt = function(cond) {\n  .                 log_debug(\"Interrupt during execution\")\n  .                 interrupted <<- TRUE\n  .             }, error = .self$handle_error), tryCatchList(expr, \n  .             classes, parentenv, handlers), tryCatchOne(tryCatchList(expr, \n  .             names[-nh], parentenv, handlers[-nh]), names[nh], \n  .             parentenv, handlers[[nh]]), doTryCatch(return(expr), \n  .             name, parentenv, handler), tryCatchList(expr, names[-nh], \n  .             parentenv, handlers[-nh]), tryCatchOne(expr, names, \n  .             parentenv, handlers[[1L]]), doTryCatch(return(expr), \n  .             name, parentenv, handler), evaluate(request$content$code, \n  .             envir = .GlobalEnv, output_handler = oh, stop_on_error = 1L), \n  .         withRestarts(with_handlers({\n  .             for (expr in tle$exprs) {\n  .                 ev <- withVisible(eval(expr, envir))\n  .                 watcher$capture_plot_and_output()\n  .                 watcher$print_value(ev$value, ev$visible, envir)\n  .             }\n  .             TRUE\n  .         }, handlers), eval_continue = function() TRUE, eval_stop = function() FALSE), \n  .         withRestartList(expr, restarts), withOneRestart(withRestartList(expr, \n  .             restarts[-nr]), restarts[[nr]]), doWithOneRestart(return(expr), \n  .             restart), withRestartList(expr, restarts[-nr]), withOneRestart(expr, \n  .             restarts[[1L]]), doWithOneRestart(return(expr), restart), \n  .         with_handlers({\n  .             for (expr in tle$exprs) {\n  .                 ev <- withVisible(eval(expr, envir))\n  .                 watcher$capture_plot_and_output()\n  .                 watcher$print_value(ev$value, ev$visible, envir)\n  .             }\n  .             TRUE\n  .         }, handlers), eval(call), eval(call), withCallingHandlers(code, \n  .             message = `<fn>`, warning = `<fn>`, error = `<fn>`), \n  .         withVisible(eval(expr, envir)), eval(expr, envir), eval(expr, \n  .             envir), pib %>% to_quarterly(\"value\"), to_quarterly(., \n  .             \"value\"), df %>% mutate(year_quarter = as.yearqtr(date)) %>% \n  .             group_by(year_quarter) %>% summarise(value = mean(.data[[value_col]], \n  .             na.rm = TRUE)) %>% ungroup(), ungroup(.), summarise(., \n  .             value = mean(.data[[value_col]], na.rm = TRUE)), \n  .         summarise.grouped_df(., value = mean(.data[[value_col]], \n  .             na.rm = TRUE)), summarise_cols(.data, dplyr_quosures(...), \n  .             by, \"summarise\"), withCallingHandlers({\n  .             for (i in seq_along(dots)) {\n  .                 poke_error_context(dots, i, mask = mask)\n  .                 context_poke(\"column\", old_current_column)\n  .                 dot <- dots[[i]]\n  .                 dot <- expand_pick(dot, mask)\n  .                 quosures <- expand_across(dot)\n  .                 quosures_results <- map(quosures, summarise_eval_one, \n  .                   mask = mask)\n  .                 for (k in seq_along(quosures)) {\n  .                   quo <- quosures[[k]]\n  .                   quo_data <- attr(quo, \"dplyr:::data\")\n  .                   quo_result <- quosures_results[[k]]\n  .                   if (is.null(quo_result)) {\n  .                     next\n  .                   }\n  .                   types_k <- quo_result$types\n  .                   chunks_k <- quo_result$chunks\n  .                   results_k <- quo_result$results\n  .                   if (!quo_data$is_named && is.data.frame(types_k)) {\n  .                     chunks_extracted <- .Call(dplyr_extract_chunks, \n  .                       chunks_k, types_k)\n  .                     types_k_names <- names(types_k)\n  .                     for (j in seq_along(chunks_extracted)) {\n  .                       mask$add_one(name = types_k_names[j], chunks = chunks_extracted[[j]], \n  .                         result = results_k[[j]])\n  .                     }\n  .                     chunks <- append(chunks, chunks_extracted)\n  .                     types <- append(types, as.list(types_k))\n  .                     results <- append(results, results_k)\n  .                     out_names <- c(out_names, types_k_names)\n  .                   }\n  .                   else {\n  .                     name <- dplyr_quosure_name(quo_data)\n  .                     mask$add_one(name = name, chunks = chunks_k, \n  .                       result = results_k)\n  .                     chunks <- append(chunks, list(chunks_k))\n  .                     types <- append(types, list(types_k))\n  .                     results <- append(results, list(results_k))\n  .                     out_names <- c(out_names, name)\n  .                   }\n  .                 }\n  .             }\n  .             sizes <- .Call(dplyr_summarise_recycle_chunks_in_place, \n  .                 chunks, results)\n  .             for (i in seq_along(chunks)) {\n  .                 result <- results[[i]] %||% vec_c(!!!chunks[[i]], \n  .                   .ptype = types[[i]])\n  .                 cols[[out_names[i]]] <- result\n  .             }\n  .         }, error = function(cnd) {\n  .             if (inherits(cnd, \"dplyr:::summarise_incompatible_size\")) {\n  .                 action <- \"recycle\"\n  .                 i <- cnd$dplyr_error_data$index\n  .             }\n  .             else {\n  .                 action <- \"compute\"\n  .                 i <- i\n  .             }\n  .             handler <- dplyr_error_handler(dots = dots, mask = mask, \n  .                 bullets = summarise_bullets, error_call = error_call, \n  .                 action = action)\n  .             handler(cnd)\n  .         }, warning = dplyr_warning_handler(state = warnings_state, \n  .             mask = mask, error_call = error_call)), map(quosures, \n  .             summarise_eval_one, mask = mask), lapply(.x, .f, \n  .             ...), FUN(X[[i]], ...), mask$eval_all_summarise(quo), \n  .         eval(), mean(.data[[\"value\"]], na.rm = TRUE), .data[[\"value\"]], \n  .         `[[.rlang_data_pronoun`(.data, \"value\"), data_pronoun_get(x, \n  .             i, call = I(call(\"[[\", quote(.data), substitute(i)))), \n  .         abort_data_pronoun(x, call = y), abort(msg, \"rlang_error_data_pronoun_not_found\", \n  .             call = call)), parent = c(0L, 1L, 2L, 3L, 4L, 5L, \n  .     6L, 7L, 6L, 9L, 10L, 4L, 12L, 13L, 14L, 15L, 14L, 17L, 18L, \n  .     12L, 20L, 21L, 20L, 12L, 12L, 25L, 0L, 0L, 28L, 0L, 0L, 0L, \n  .     32L, 33L, 33L, 35L, 36L, 37L, 38L, 0L, 0L, 0L, 42L, 0L, 44L\n  .     ), visible = c(TRUE, TRUE, TRUE, TRUE, TRUE, TRUE, TRUE, \n  .     TRUE, TRUE, TRUE, TRUE, TRUE, TRUE, TRUE, TRUE, TRUE, TRUE, \n  .     TRUE, TRUE, TRUE, TRUE, TRUE, TRUE, TRUE, TRUE, TRUE, TRUE, \n  .     TRUE, TRUE, TRUE, TRUE, TRUE, TRUE, TRUE, TRUE, TRUE, TRUE, \n  .     TRUE, TRUE, TRUE, TRUE, TRUE, TRUE, TRUE, FALSE), namespace = c(\"IRkernel\", \n  .     NA, \"IRkernel\", NA, \"base\", \"base\", \"base\", \"base\", \"base\", \n  .     \"base\", \"base\", \"evaluate\", \"base\", \"base\", \"base\", \"base\", \n  .     \"base\", \"base\", \"base\", \"evaluate\", \"base\", \"base\", \"base\", \n  .     \"base\", \"base\", \"base\", NA, NA, NA, \"dplyr\", \"dplyr\", \"dplyr\", \n  .     \"dplyr\", \"base\", \"dplyr\", \"base\", \"dplyr\", NA, \"dplyr\", \"base\", \n  .     NA, \"rlang\", \"rlang\", \"rlang\", \"rlang\"), scope = c(\"::\", \n  .     NA, \"local\", NA, \"::\", \"local\", \"local\", \"local\", \"local\", \n  .     \"local\", \"local\", \"::\", \"::\", \"local\", \"local\", \"local\", \n  .     \"local\", \"local\", \"local\", \":::\", \"::\", \"::\", \"::\", \"::\", \n  .     \"::\", \"::\", NA, \"global\", NA, \"::\", \"::\", \":::\", \":::\", \"::\", \n  .     \":::\", \"::\", \"local\", NA, \"local\", \"::\", NA, \":::\", \":::\", \n  .     \":::\", \"::\")), row.names = c(NA, -45L), version = 2L, class = c(\"rlang_trace\", \n  .     \"rlib_trace\", \"tbl\", \"data.frame\")), parent = NULL, rlang = list(\n  .         inherit = TRUE), call = .data[[\"value\"]], use_cli_format = TRUE), class = c(\"rlang_error_data_pronoun_not_found\", \n  . \"rlang_error\", \"error\", \"condition\")))",
            "22. handler(cnd)",
            "23. abort(message, class = error_class, parent = parent, call = error_call)",
            "24. signal_abort(cnd, .file)",
            "25. signalCondition(cnd)"
          ]
        }
      ]
    },
    {
      "cell_type": "markdown",
      "source": [
        "4️⃣ Unir as bases"
      ],
      "metadata": {
        "id": "sYbR3J10icaH"
      }
    },
    {
      "cell_type": "code",
      "source": [
        "# Juntar tudo\n",
        "dados_q <- reduce(list(pib_q, ipca_q, selic_q, cambio_q),\n",
        "                  ~ full_join(.x, .y, by = \"year_quarter\"))\n",
        "\n",
        "colnames(dados_q) <- c(\"quarter\", \"PIB\", \"IPCA\", \"SELIC\", \"CAMBIO\")\n",
        "\n",
        "# Remover trimestres com dados faltantes (caso haja)\n",
        "dados_q <- na.omit(dados_q)\n",
        "\n",
        "# Transformar em objeto ts\n",
        "dados_ts <- ts(dados_q[, -1], start = c(year(min(dados_q$quarter)), quarter(min(dados_q$quarter))), frequency = 4)\n"
      ],
      "metadata": {
        "colab": {
          "base_uri": "https://localhost:8080/",
          "height": 280
        },
        "id": "FNDzmhVrihp8",
        "outputId": "116ea9ba-8fd9-4a04-f520-91b00575d228"
      },
      "execution_count": 10,
      "outputs": [
        {
          "output_type": "error",
          "ename": "ERROR",
          "evalue": "Error: object 'pib_q' not found\n",
          "traceback": [
            "Error: object 'pib_q' not found\nTraceback:\n",
            "1. reduce_impl(.x, .f, ..., .init = .init, .dir = .dir)",
            "2. reduce_init(.x, .init, left = left, error_call = .purrr_error_call)",
            "3. is_empty(x)",
            "4. .handleSimpleError(function (cnd) \n . {\n .     watcher$capture_plot_and_output()\n .     cnd <- sanitize_call(cnd)\n .     watcher$push(cnd)\n .     switch(on_error, continue = invokeRestart(\"eval_continue\"), \n .         stop = invokeRestart(\"eval_stop\"), error = NULL)\n . }, \"object 'pib_q' not found\", base::quote(eval(expr, envir)))"
          ]
        }
      ]
    },
    {
      "cell_type": "markdown",
      "source": [
        "5️⃣ Teste de raiz unitária (ADF)"
      ],
      "metadata": {
        "id": "qdYNOgnOilPs"
      }
    },
    {
      "cell_type": "code",
      "source": [
        "Verificando se as séries são I(1):\n",
        "\n",
        "summary(ur.df(dados_ts[, \"PIB\"], type = \"trend\", lags = 4))\n",
        "summary(ur.df(dados_ts[, \"IPCA\"], type = \"trend\", lags = 4))\n",
        "summary(ur.df(dados_ts[, \"SELIC\"], type = \"trend\", lags = 4))\n",
        "summary(ur.df(dados_ts[, \"CAMBIO\"], type = \"trend\", lags = 4))\n",
        "Provavelmente todas serão I(1), como esperado em séries macroeconômicas."
      ],
      "metadata": {
        "colab": {
          "base_uri": "https://localhost:8080/",
          "height": 106
        },
        "id": "KCR3NzN0io67",
        "outputId": "ef35af71-0a33-4aa7-d509-d9fd9b7cfb5e"
      },
      "execution_count": 3,
      "outputs": [
        {
          "output_type": "error",
          "ename": "ERROR",
          "evalue": "Error in parse(text = input): <text>:1:13: unexpected symbol\n1: Verificando se\n                ^\n",
          "traceback": [
            "Error in parse(text = input): <text>:1:13: unexpected symbol\n1: Verificando se\n                ^\nTraceback:\n"
          ]
        }
      ]
    },
    {
      "cell_type": "markdown",
      "source": [
        "6️⃣ Teste de cointegração de Johansen"
      ],
      "metadata": {
        "id": "CGT2_Rn2ivNw"
      }
    },
    {
      "cell_type": "code",
      "source": [
        "jotest <- ca.jo(dados_ts, type = \"trace\", ecdet = \"const\", K = 2)\n",
        "summary(jotest)\n",
        "O número de vetores de cointegração indicará o rank apropriado."
      ],
      "metadata": {
        "colab": {
          "base_uri": "https://localhost:8080/",
          "height": 124
        },
        "id": "3UxoT4TjizQi",
        "outputId": "07f2248c-6e1f-45f7-abff-3bae7962f334"
      },
      "execution_count": 4,
      "outputs": [
        {
          "output_type": "error",
          "ename": "ERROR",
          "evalue": "Error in parse(text = input): <text>:3:3: unexpected symbol\n2: summary(jotest)\n3: O número\n     ^\n",
          "traceback": [
            "Error in parse(text = input): <text>:3:3: unexpected symbol\n2: summary(jotest)\n3: O número\n     ^\nTraceback:\n"
          ]
        }
      ]
    },
    {
      "cell_type": "markdown",
      "source": [
        "7️⃣ Estimar o VECM"
      ],
      "metadata": {
        "id": "-xLWHlq4i3Zo"
      }
    },
    {
      "cell_type": "code",
      "source": [
        "Se, por exemplo, o teste indicar rank = 1:\n",
        "\n",
        "vecm_model <- cajorls(jotest, r = 1)\n",
        "summary(vecm_model)\n"
      ],
      "metadata": {
        "colab": {
          "base_uri": "https://localhost:8080/",
          "height": 106
        },
        "id": "jC9NYQVOi73T",
        "outputId": "cc4dcf33-499f-4ed7-8cd5-cb2e87e72dfb"
      },
      "execution_count": 5,
      "outputs": [
        {
          "output_type": "error",
          "ename": "ERROR",
          "evalue": "Error in parse(text = input): <text>:1:3: unexpected ','\n1: Se,\n      ^\n",
          "traceback": [
            "Error in parse(text = input): <text>:1:3: unexpected ','\n1: Se,\n      ^\nTraceback:\n"
          ]
        }
      ]
    },
    {
      "cell_type": "markdown",
      "source": [
        "8️⃣ Converter para VAR estrutural com restrição de longo prazo"
      ],
      "metadata": {
        "id": "qqglL9SkjDQX"
      }
    },
    {
      "cell_type": "code",
      "source": [
        "var_model <- vec2var(jotest, r = 1)\n",
        "summary(var_model)\n"
      ],
      "metadata": {
        "colab": {
          "base_uri": "https://localhost:8080/",
          "height": 245
        },
        "id": "iCStHLi_jEMb",
        "outputId": "bdb137da-dec5-409a-d618-0dbc762d2e58"
      },
      "execution_count": 6,
      "outputs": [
        {
          "output_type": "error",
          "ename": "ERROR",
          "evalue": "Error: object 'jotest' not found\n",
          "traceback": [
            "Error: object 'jotest' not found\nTraceback:\n",
            "1. is(z, \"ca.jo\")",
            "2. .handleSimpleError(function (cnd) \n . {\n .     watcher$capture_plot_and_output()\n .     cnd <- sanitize_call(cnd)\n .     watcher$push(cnd)\n .     switch(on_error, continue = invokeRestart(\"eval_continue\"), \n .         stop = invokeRestart(\"eval_stop\"), error = NULL)\n . }, \"object 'jotest' not found\", base::quote(eval(expr, envir)))"
          ]
        }
      ]
    },
    {
      "cell_type": "markdown",
      "source": [
        "9️⃣ Fazer simulações"
      ],
      "metadata": {
        "id": "Nk6Yu508jLI5"
      }
    },
    {
      "cell_type": "code",
      "source": [
        "Exemplo de impulso-resposta:\n",
        "\n",
        "irf(var_model, impulse = \"SELIC\", response = \"IPCA\", n.ahead = 12, boot = TRUE)\n"
      ],
      "metadata": {
        "colab": {
          "base_uri": "https://localhost:8080/",
          "height": 106
        },
        "id": "7VdH-6xVjOP_",
        "outputId": "713426c3-5323-411c-e792-9de891b54969"
      },
      "execution_count": 7,
      "outputs": [
        {
          "output_type": "error",
          "ename": "ERROR",
          "evalue": "Error in parse(text = input): <text>:1:9: unexpected symbol\n1: Exemplo de\n            ^\n",
          "traceback": [
            "Error in parse(text = input): <text>:1:9: unexpected symbol\n1: Exemplo de\n            ^\nTraceback:\n"
          ]
        }
      ]
    }
  ]
}