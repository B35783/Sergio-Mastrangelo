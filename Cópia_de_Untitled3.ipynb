{
  "nbformat": 4,
  "nbformat_minor": 0,
  "metadata": {
    "colab": {
      "provenance": [],
      "authorship_tag": "ABX9TyNpr8w+R6LWks8OkEC+65J3",
      "include_colab_link": true
    },
    "kernelspec": {
      "name": "ir",
      "display_name": "R"
    },
    "language_info": {
      "name": "R"
    }
  },
  "cells": [
    {
      "cell_type": "markdown",
      "metadata": {
        "id": "view-in-github",
        "colab_type": "text"
      },
      "source": [
        "<a href=\"https://colab.research.google.com/github/B35783/Sergio-Mastrangelo/blob/main/C%C3%B3pia_de_Untitled3.ipynb\" target=\"_parent\"><img src=\"https://colab.research.google.com/assets/colab-badge.svg\" alt=\"Open In Colab\"/></a>"
      ]
    },
    {
      "cell_type": "markdown",
      "source": [
        "1️⃣ Pacotes necessários\n",
        "\n"
      ],
      "metadata": {
        "id": "jSsFj1FeYSBk"
      }
    },
    {
      "cell_type": "code",
      "source": [
        "install.packages(c(\"sidrar\", \"forecast\", \"tseries\", \"urca\", \"ggplot2\", \"lubridate\", \"tsibble\", \"feasts\"))"
      ],
      "metadata": {
        "colab": {
          "base_uri": "https://localhost:8080/"
        },
        "id": "6_xG7uDFYUHK",
        "outputId": "bdc26332-c3c4-4c3f-a447-639501dce23f"
      },
      "execution_count": null,
      "outputs": [
        {
          "output_type": "stream",
          "name": "stderr",
          "text": [
            "Installing packages into ‘/usr/local/lib/R/site-library’\n",
            "(as ‘lib’ is unspecified)\n",
            "\n"
          ]
        }
      ]
    },
    {
      "cell_type": "markdown",
      "source": [
        "2️⃣ Obtenção dos dados do IBGE (Produção Bens Intermediários - PBI)"
      ],
      "metadata": {
        "id": "oJ-R_rwWZB6o"
      }
    },
    {
      "cell_type": "code",
      "source": [
        "# Download dos dados mais recentes\n",
        "dados_raw <- get_sidrar(api = \"/t/1419/n1/all/v/3132/p/all/c12753/99062/d/v3132%202\")\n",
        "\n",
        "# Filtrando apenas a categoria de Bens Intermediários\n",
        "pbi <- subset(dados_raw, `Categoria de uso (Código)` == \"99062\")\n",
        "\n",
        "# Tratando datas e criando série temporal\n",
        "pbi$Data <- ym(pbi$`Mês (Código)`)\n",
        "pbi_ts <- ts(pbi$Valor, start = c(year(min(pbi$Data)), month(min(pbi$Data))), frequency = 12)\n",
        "# Agora temos a série mensal de PBI do IBGE pronta."
      ],
      "metadata": {
        "colab": {
          "base_uri": "https://localhost:8080/",
          "height": 72
        },
        "id": "HxtfP8yWZExN",
        "outputId": "0fdaba85-84e4-4e30-e5ec-472102900913"
      },
      "execution_count": null,
      "outputs": [
        {
          "output_type": "error",
          "ename": "ERROR",
          "evalue": "Error in get_sidrar(api = \"/t/1419/n1/all/v/3132/p/all/c12753/99062/d/v3132%202\"): could not find function \"get_sidrar\"\n",
          "traceback": [
            "Error in get_sidrar(api = \"/t/1419/n1/all/v/3132/p/all/c12753/99062/d/v3132%202\"): could not find function \"get_sidrar\"\nTraceback:\n"
          ]
        }
      ]
    },
    {
      "cell_type": "markdown",
      "source": [
        "3️⃣ Separar em treinamento e teste"
      ],
      "metadata": {
        "id": "5HMTUozEn4df"
      }
    },
    {
      "cell_type": "code",
      "source": [
        "train <- window(pbi_ts, end = c(2015,10))\n",
        "test <- window(pbi_ts, start = c(2015,11))"
      ],
      "metadata": {
        "colab": {
          "base_uri": "https://localhost:8080/",
          "height": 228
        },
        "id": "3vBBZTMhoGYM",
        "outputId": "4a59d773-2cf1-4424-dece-192318223db2"
      },
      "execution_count": null,
      "outputs": [
        {
          "output_type": "error",
          "ename": "ERROR",
          "evalue": "Error: object 'pbi_ts' not found\n",
          "traceback": [
            "Error: object 'pbi_ts' not found\nTraceback:\n",
            "1. .handleSimpleError(function (cnd) \n . {\n .     watcher$capture_plot_and_output()\n .     cnd <- sanitize_call(cnd)\n .     watcher$push(cnd)\n .     switch(on_error, continue = invokeRestart(\"eval_continue\"), \n .         stop = invokeRestart(\"eval_stop\"), error = NULL)\n . }, \"object 'pbi_ts' not found\", base::quote(eval(expr, envir)))"
          ]
        }
      ]
    },
    {
      "cell_type": "markdown",
      "source": [
        "4️⃣ Visualização inicial"
      ],
      "metadata": {
        "id": "OQsyhCwLorYS"
      }
    },
    {
      "cell_type": "code",
      "source": [
        "autoplot(train) +\n",
        "  labs(title = \"Produção de Bens Intermediários - IBGE\",\n",
        "       y = \"Índice (2012=100)\", x = \"\") +\n",
        "  theme_minimal()\n"
      ],
      "metadata": {
        "colab": {
          "base_uri": "https://localhost:8080/",
          "height": 72
        },
        "id": "PHD1q5DGouhm",
        "outputId": "b520f44e-e5a9-434e-e693-343dc5c59e50"
      },
      "execution_count": null,
      "outputs": [
        {
          "output_type": "error",
          "ename": "ERROR",
          "evalue": "Error in autoplot(train): could not find function \"autoplot\"\n",
          "traceback": [
            "Error in autoplot(train): could not find function \"autoplot\"\nTraceback:\n"
          ]
        }
      ]
    },
    {
      "cell_type": "markdown",
      "source": [
        "5️⃣ Teste de estacionariedade (ADF)"
      ],
      "metadata": {
        "id": "4kocxYX3o1Ip"
      }
    },
    {
      "cell_type": "code",
      "source": [
        "adf_test <- ur.df(train, type = \"none\", selectlags = \"BIC\")\n",
        "summary(adf_test)\n",
        "Se não for estacionária, aplicamos as diferenças:\n",
        "\n",
        "diff_train <- diff(train)\n",
        "adf_test_diff <- ur.df(diff_train, type = \"none\", selectlags = \"BIC\")\n",
        "summary(adf_test_diff)\n",
        "\n"
      ],
      "metadata": {
        "colab": {
          "base_uri": "https://localhost:8080/",
          "height": 124
        },
        "id": "3xfMWHdao5F2",
        "outputId": "56fa966f-31ee-4ada-c09a-b2ac3ef4b4c7"
      },
      "execution_count": null,
      "outputs": [
        {
          "output_type": "error",
          "ename": "ERROR",
          "evalue": "Error in parse(text = input): <text>:3:4: unexpected symbol\n2: summary(adf_test)\n3: Se não\n      ^\n",
          "traceback": [
            "Error in parse(text = input): <text>:3:4: unexpected symbol\n2: summary(adf_test)\n3: Se não\n      ^\nTraceback:\n"
          ]
        }
      ]
    },
    {
      "cell_type": "markdown",
      "source": [
        "6️⃣ Teste de sazonalidade (OCSB)"
      ],
      "metadata": {
        "id": "y3LyOyUBpC-7"
      }
    },
    {
      "cell_type": "code",
      "source": [
        "Vamos usar o nsdiffs():\n",
        "\n",
        "nsdiffs(diff_train, test = \"ocsb\")\n"
      ],
      "metadata": {
        "colab": {
          "base_uri": "https://localhost:8080/",
          "height": 106
        },
        "id": "a-o0rsY3pL55",
        "outputId": "baa6b458-8448-4a47-dde0-aeb577e1e035"
      },
      "execution_count": null,
      "outputs": [
        {
          "output_type": "error",
          "ename": "ERROR",
          "evalue": "Error in parse(text = input): <text>:1:7: unexpected symbol\n1: Vamos usar\n          ^\n",
          "traceback": [
            "Error in parse(text = input): <text>:1:7: unexpected symbol\n1: Vamos usar\n          ^\nTraceback:\n"
          ]
        }
      ]
    },
    {
      "cell_type": "markdown",
      "source": [
        "7️⃣ Funções de autocorrelação (ACF e PACF)"
      ],
      "metadata": {
        "id": "UZOfGmFwpTrV"
      }
    },
    {
      "cell_type": "code",
      "source": [
        "ggAcf(diff_train, lag.max = 48) + theme_minimal()\n",
        "ggPacf(diff_train, lag.max = 48) + theme_minimal()\n"
      ],
      "metadata": {
        "colab": {
          "base_uri": "https://localhost:8080/",
          "height": 72
        },
        "id": "j6Ja15BGpUyl",
        "outputId": "4348573f-feb7-4f85-9715-e7284bf52a4c"
      },
      "execution_count": null,
      "outputs": [
        {
          "output_type": "error",
          "ename": "ERROR",
          "evalue": "Error in ggAcf(diff_train, lag.max = 48): could not find function \"ggAcf\"\n",
          "traceback": [
            "Error in ggAcf(diff_train, lag.max = 48): could not find function \"ggAcf\"\nTraceback:\n"
          ]
        }
      ]
    },
    {
      "cell_type": "markdown",
      "source": [
        "8️⃣ Estimação de modelos SARIMA"
      ],
      "metadata": {
        "id": "IBeFd4QBpY-g"
      }
    },
    {
      "cell_type": "code",
      "source": [
        "Modelo 1 sugerido: SARIMA(2,1,2)(1,0,2)[12]\n",
        "\n",
        "modelo1 <- Arima(train, order = c(2,1,2), seasonal = c(1,0,2))\n",
        "summary(modelo1)\n",
        "Modelo reduzido: SARIMA(2,1,2)(1,0,1)[12]\n",
        "\n",
        "modelo2 <- Arima(train, order = c(2,1,2), seasonal = c(1,0,1))\n",
        "summary(modelo2)\n",
        "Modelo simplificado via auto.arima\n",
        "modelo_auto <- auto.arima(train)\n",
        "summary(modelo_auto)\n"
      ],
      "metadata": {
        "colab": {
          "base_uri": "https://localhost:8080/",
          "height": 106
        },
        "id": "UT9lFEhhpev0",
        "outputId": "f12e311f-7de5-4590-e4de-4cf23e6fd2fb"
      },
      "execution_count": null,
      "outputs": [
        {
          "output_type": "error",
          "ename": "ERROR",
          "evalue": "Error in parse(text = input): <text>:1:8: unexpected numeric constant\n1: Modelo 1\n           ^\n",
          "traceback": [
            "Error in parse(text = input): <text>:1:8: unexpected numeric constant\n1: Modelo 1\n           ^\nTraceback:\n"
          ]
        }
      ]
    },
    {
      "cell_type": "markdown",
      "source": [
        "9️⃣ Diagnóstico de resíduos"
      ],
      "metadata": {
        "id": "XKJmjQwSpmvo"
      }
    },
    {
      "cell_type": "code",
      "source": [
        "checkresiduals(modelo_auto)"
      ],
      "metadata": {
        "colab": {
          "base_uri": "https://localhost:8080/",
          "height": 72
        },
        "id": "ppPCbpO6psZh",
        "outputId": "56ae5489-2045-42a4-802f-1b5e3f62174b"
      },
      "execution_count": null,
      "outputs": [
        {
          "output_type": "error",
          "ename": "ERROR",
          "evalue": "Error in checkresiduals(modelo_auto): could not find function \"checkresiduals\"\n",
          "traceback": [
            "Error in checkresiduals(modelo_auto): could not find function \"checkresiduals\"\nTraceback:\n"
          ]
        }
      ]
    },
    {
      "cell_type": "markdown",
      "source": [
        "🔟 Tratamento de outlier (quebra estrutural 2008)"
      ],
      "metadata": {
        "id": "BUTv4R2Ypvc7"
      }
    },
    {
      "cell_type": "code",
      "source": [
        "Criando a dummy:\n",
        "\n",
        "dummy <- ts(ifelse(time(train) >= 2008 + 8/12 & time(train) <= 2008 + 10/12, 1, 0), start = start(train), frequency = 12)\n",
        "modelo_dummy <- Arima(train, order = c(1,1,0), seasonal = c(1,0,1), xreg = dummy)\n",
        "summary(modelo_dummy)\n"
      ],
      "metadata": {
        "colab": {
          "base_uri": "https://localhost:8080/",
          "height": 106
        },
        "id": "TbHVFR4ypzVY",
        "outputId": "ac59e830-b5f3-4de7-e3e5-32fe81712462"
      },
      "execution_count": null,
      "outputs": [
        {
          "output_type": "error",
          "ename": "ERROR",
          "evalue": "Error in parse(text = input): <text>:1:9: unexpected symbol\n1: Criando a\n            ^\n",
          "traceback": [
            "Error in parse(text = input): <text>:1:9: unexpected symbol\n1: Criando a\n            ^\nTraceback:\n"
          ]
        }
      ]
    },
    {
      "cell_type": "markdown",
      "source": [
        "🔟+1 Teste Ljung-Box"
      ],
      "metadata": {
        "id": "a_voUHgQp3GT"
      }
    },
    {
      "cell_type": "code",
      "source": [
        "Box.test(residuals(modelo_dummy), lag = 11, type = \"Ljung-Box\")"
      ],
      "metadata": {
        "colab": {
          "base_uri": "https://localhost:8080/",
          "height": 280
        },
        "id": "Yb2ZLpJLp5l5",
        "outputId": "06886ffa-95e1-4582-c32a-a8d2b080e97e"
      },
      "execution_count": null,
      "outputs": [
        {
          "output_type": "error",
          "ename": "ERROR",
          "evalue": "Error: object 'modelo_dummy' not found\n",
          "traceback": [
            "Error: object 'modelo_dummy' not found\nTraceback:\n",
            "1. NCOL(x)",
            "2. residuals(modelo_dummy)",
            "3. .handleSimpleError(function (cnd) \n . {\n .     watcher$capture_plot_and_output()\n .     cnd <- sanitize_call(cnd)\n .     watcher$push(cnd)\n .     switch(on_error, continue = invokeRestart(\"eval_continue\"), \n .         stop = invokeRestart(\"eval_stop\"), error = NULL)\n . }, \"object 'modelo_dummy' not found\", base::quote(eval(expr, \n .     envir)))"
          ]
        }
      ]
    },
    {
      "cell_type": "markdown",
      "source": [
        "🔟+2 Previsão"
      ],
      "metadata": {
        "id": "yq1CX4IKp8yV"
      }
    },
    {
      "cell_type": "code",
      "source": [
        "Criar dummy para o período de teste:\n",
        "\n",
        "dummy_test <- ts(ifelse(time(test) >= 2008 + 8/12 & time(test) <= 2008 + 10/12, 1, 0), start = start(test), frequency = 12)\n",
        "Previsão:\n",
        "\n",
        "fcast <- forecast(modelo_dummy, xreg = dummy_test, h = length(test))\n",
        "autoplot(fcast) + autolayer(test, series = \"Observado\") + theme_minimal()\n",
        "accuracy(fcast, test)\n"
      ],
      "metadata": {
        "colab": {
          "base_uri": "https://localhost:8080/",
          "height": 106
        },
        "id": "M0SSmNCIp_qy",
        "outputId": "4c8d405a-31e0-4fff-b7a2-9c2bd46a9af8"
      },
      "execution_count": null,
      "outputs": [
        {
          "output_type": "error",
          "ename": "ERROR",
          "evalue": "Error in parse(text = input): <text>:1:7: unexpected symbol\n1: Criar dummy\n          ^\n",
          "traceback": [
            "Error in parse(text = input): <text>:1:7: unexpected symbol\n1: Criar dummy\n          ^\nTraceback:\n"
          ]
        }
      ]
    }
  ]
}