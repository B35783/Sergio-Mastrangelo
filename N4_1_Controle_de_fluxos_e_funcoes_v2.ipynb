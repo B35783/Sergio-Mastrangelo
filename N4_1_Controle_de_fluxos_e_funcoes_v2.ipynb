{
  "cells": [
    {
      "cell_type": "markdown",
      "metadata": {
        "id": "view-in-github",
        "colab_type": "text"
      },
      "source": [
        "<a href=\"https://colab.research.google.com/github/B35783/Sergio-Mastrangelo/blob/main/N4_1_Controle_de_fluxos_e_funcoes_v2.ipynb\" target=\"_parent\"><img src=\"https://colab.research.google.com/assets/colab-badge.svg\" alt=\"Open In Colab\"/></a>"
      ]
    },
    {
      "cell_type": "markdown",
      "metadata": {
        "id": "MAxCXURp0V28"
      },
      "source": [
        "![image.png](attachment:image.png)"
      ]
    },
    {
      "cell_type": "markdown",
      "metadata": {
        "id": "fOlGqDnd0V3G"
      },
      "source": [
        "# Tipos de dados, controle de fluxos e funções <a name=\"topo\"></a>"
      ]
    },
    {
      "cell_type": "markdown",
      "metadata": {
        "id": "rzWmwV690V3J",
        "toc": true
      },
      "source": [
        "<h1>Índice<span class=\"tocSkip\"></span></h1>\n",
        "<div class=\"toc\"><ul class=\"toc-item\"><li><span><a href=\"#1.-Variáveis-e-referências-\" data-toc-modified-id=\"1.-Variáveis-e-referências--1\">1. Variáveis e referências <a name=\"2\" rel=\"nofollow\"></a></a></span><ul class=\"toc-item\"><li><span><a href=\"#Operadores-'is'-e-'=='\" data-toc-modified-id=\"Operadores-'is'-e-'=='-1.1\">Operadores <em>'is'</em> e <em>'=='</em></a></span></li></ul></li><li><span><a href=\"#2.-Funções-\" data-toc-modified-id=\"2.-Funções--2\">2. Funções <a name=\"3\" rel=\"nofollow\"></a></a></span><ul class=\"toc-item\"><li><span><a href=\"#Construindo-funções\" data-toc-modified-id=\"Construindo-funções-2.1\">Construindo funções</a></span></li><li><span><a href=\"#Namespace-de-função\" data-toc-modified-id=\"Namespace-de-função-2.2\">Namespace de função</a></span></li><li><span><a href=\"#-Exercício\" data-toc-modified-id=\"-Exercício-2.3\"><span style=\"color:blue\"> Exercício</span></a></span></li></ul></li><li><span><a href=\"#3.-Controle-de-fluxos-\" data-toc-modified-id=\"3.-Controle-de-fluxos--3\">3. Controle de fluxos <a name=\"4\" rel=\"nofollow\"></a></a></span><ul class=\"toc-item\"><li><span><a href=\"#-Exercício-\" data-toc-modified-id=\"-Exercício--3.1\"><span style=\"color:blue\"> Exercício </span></a></span></li><li><span><a href=\"#Laço-for-e-Iteradores\" data-toc-modified-id=\"Laço-for-e-Iteradores-3.2\">Laço <em>for</em> e Iteradores</a></span></li><li><span><a href=\"#Função-range\" data-toc-modified-id=\"Função-range-3.3\">Função range</a></span></li><li><span><a href=\"#Uma-lista-é-um-iterador!\" data-toc-modified-id=\"Uma-lista-é-um-iterador!-3.4\">Uma lista é um iterador!</a></span></li><li><span><a href=\"#-Exercícios\" data-toc-modified-id=\"-Exercícios-3.5\"><span style=\"color:blue\"> Exercícios</span></a></span></li></ul></li></ul></div>"
      ]
    },
    {
      "cell_type": "markdown",
      "metadata": {
        "id": "uiuQNeN_0V3c"
      },
      "source": [
        "## 1. Variáveis e referências <a name=\"2\"></a>\n",
        "[Voltar ao índice](#topo)\n",
        "\n",
        "Quando fazemos uma atribuição de variável no Python, a variável do lado esquerdo é, na prática, um apontador, ou um nome para o objeto do lado direito. Isso implica em que quando atribuimos esta variável a uma segunda variável, estamos fazendo um novo apontador apontando para o mesmo objeto."
      ]
    },
    {
      "cell_type": "code",
      "execution_count": null,
      "metadata": {
        "id": "3VtwayllicvV",
        "outputId": "530079d1-df9b-485d-f848-5dd600f13690"
      },
      "outputs": [
        {
          "data": {
            "text/plain": [
              "[1, 2, 3]"
            ]
          },
          "execution_count": 1,
          "metadata": {},
          "output_type": "execute_result"
        }
      ],
      "source": [
        "lista1 = [1,2,3]\n",
        "lista1"
      ]
    },
    {
      "cell_type": "code",
      "execution_count": null,
      "metadata": {
        "id": "uGpzntDyicvW",
        "outputId": "2ca5b44e-c1a9-4ae6-c86e-e8a47beb0a03"
      },
      "outputs": [
        {
          "data": {
            "text/plain": [
              "[1, 2, 3]"
            ]
          },
          "execution_count": 2,
          "metadata": {},
          "output_type": "execute_result"
        }
      ],
      "source": [
        "lista2 = lista1\n",
        "lista2"
      ]
    },
    {
      "cell_type": "code",
      "execution_count": null,
      "metadata": {
        "id": "w37acxRJicvX",
        "outputId": "720b3733-eae6-4291-e653-83fe7a341fd1"
      },
      "outputs": [
        {
          "data": {
            "text/plain": [
              "[1, 2, 3, 4]"
            ]
          },
          "execution_count": 3,
          "metadata": {},
          "output_type": "execute_result"
        }
      ],
      "source": [
        "lista2.append(4)\n",
        "lista2"
      ]
    },
    {
      "cell_type": "code",
      "execution_count": null,
      "metadata": {
        "id": "MHzXWUbqicvX",
        "outputId": "26f08418-e256-4d45-f6e8-ce423541efe8"
      },
      "outputs": [
        {
          "data": {
            "text/plain": [
              "[1, 2, 3, 4]"
            ]
          },
          "execution_count": 4,
          "metadata": {},
          "output_type": "execute_result"
        }
      ],
      "source": [
        "lista1"
      ]
    },
    {
      "cell_type": "code",
      "execution_count": null,
      "metadata": {
        "id": "ovnE4oM10V3d",
        "outputId": "b0bf84b8-b272-4430-dff7-c9e267e19f59"
      },
      "outputs": [
        {
          "data": {
            "text/plain": [
              "[1, 2, 3, 4]"
            ]
          },
          "execution_count": 29,
          "metadata": {},
          "output_type": "execute_result"
        }
      ],
      "source": [
        "# podemos comprovar isso com o seguinte exemplo\n",
        "\n",
        "# o objeto lista2 recebe lista1\n",
        "\n",
        "# o objeto lista2 é alterado, o objeto lista1 é alterado também\n",
        "\n",
        "lista1 = [1,2,3]\n",
        "lista2 = lista1\n",
        "lista2.append(4)\n",
        "lista1"
      ]
    },
    {
      "cell_type": "code",
      "execution_count": null,
      "metadata": {
        "id": "-xUfWgit0V3e",
        "outputId": "ffc68990-e426-4398-b5fe-6a4b4b629cf1"
      },
      "outputs": [
        {
          "data": {
            "text/plain": [
              "True"
            ]
          },
          "execution_count": 30,
          "metadata": {},
          "output_type": "execute_result"
        }
      ],
      "source": [
        "lista1 is lista2"
      ]
    },
    {
      "cell_type": "code",
      "execution_count": null,
      "metadata": {
        "id": "t0CX1hkA0V3g",
        "outputId": "f5fd2ab5-64db-4795-a0f5-785b66dfe8c7"
      },
      "outputs": [
        {
          "data": {
            "text/plain": [
              "False"
            ]
          },
          "execution_count": 31,
          "metadata": {},
          "output_type": "execute_result"
        }
      ],
      "source": [
        "lista3 = [1, 2, 3, 4]\n",
        "lista1 is lista3"
      ]
    },
    {
      "cell_type": "code",
      "execution_count": null,
      "metadata": {
        "id": "a61TP9O20V3h",
        "outputId": "f1c1965e-bd52-4a85-f868-c015f089ef45"
      },
      "outputs": [
        {
          "data": {
            "text/plain": [
              "True"
            ]
          },
          "execution_count": 32,
          "metadata": {},
          "output_type": "execute_result"
        }
      ],
      "source": [
        "lista1 == lista3"
      ]
    },
    {
      "cell_type": "markdown",
      "metadata": {
        "id": "WV0oYRM40V3i"
      },
      "source": [
        "### Operadores *'is'* e *'=='*\n",
        "\n",
        "> ```is``` é o \"é\" e ```==``` é o \"é igual a\".  \n",
        "\n",
        "Para esta finalidade temos os operadores ```==``` e ```is```, que possuem funcionalidades diferentes. O comando == compara os elementos e retorna ```True``` caso sejam iguais. O operador ```is``` retorna ```True``` caso ambas as variáveis apontem para o mesmo objeto - nesse caso uma variável **é** efetivamente a outra e acompanha suas alterações.\n"
      ]
    },
    {
      "cell_type": "code",
      "execution_count": null,
      "metadata": {
        "id": "f-b5rvI60V3j",
        "outputId": "5b53767d-1e16-4b76-f673-3e13c41abbad"
      },
      "outputs": [
        {
          "name": "stdout",
          "output_type": "stream",
          "text": [
            "True\n",
            "True\n",
            "True\n",
            "False\n"
          ]
        }
      ],
      "source": [
        "lista1 = [1,2,3]\n",
        "lista2 = lista1\n",
        "lista3 = [1,2,3]\n",
        "\n",
        "print(lista1 == lista2)\n",
        "print(lista1 is lista2)\n",
        "print(lista1 == lista3)\n",
        "print(lista1 is lista3)"
      ]
    },
    {
      "cell_type": "markdown",
      "metadata": {
        "id": "nRYhTn2o0V3l"
      },
      "source": [
        "Observe que embora ```lista3``` tenha os mesmos elementos de lista1, são variáveis diferentes. Portanto a comparação de lista1 com lista3 retorna ```True``` com o operador ```==```, e retorna false com o operador ```is```.\n",
        "\n",
        "Já a comparação entre ```lista1``` e ```lista2``` com o operador ```is``` vai retornar ```True``` pois apontam para o mesmo lugar na memória.\n"
      ]
    },
    {
      "cell_type": "markdown",
      "metadata": {
        "id": "uDinPZ8W0V3o"
      },
      "source": [
        "## 2. Funções <a name=\"3\"></a>\n",
        "[Voltar ao índice](#topo)\n",
        "\n",
        "É uma boa prática escrever uma função sempre que vamos repetir um trecho de código muito parecido. Assim podemos modularizar aplicações, e sempre que quisermos fazer alterações em um código maior, mexendo em uma função podemos atualizar diversos elementos do projeto ao mesmo tempo.\n",
        "\n",
        "O bom senso é sempre nosso aliado - evitar um código muito grande é interessante, mas há um equilíbrio saudável entre a modularização e o código extenso."
      ]
    },
    {
      "cell_type": "markdown",
      "metadata": {
        "id": "18mU7kO70V3o"
      },
      "source": [
        "### Construindo funções\n",
        "\n",
        "A definição de uma função é até simples.\n",
        "- Usamos a palavra reservada ```def```\n",
        "- em seguida o nome da função\n",
        "- o nome dos parâmetros vêm em seguida entre parêntesis\n",
        "- após os doispontos escrevemos os comandos da função indentados\n",
        "- a palavra reservada ```return``` indica o que a função retorna.\n",
        "\n",
        "Agora vamos praticar :)"
      ]
    },
    {
      "cell_type": "markdown",
      "metadata": {
        "id": "4qoN3-sEicvZ"
      },
      "source": [
        "Vamos escrever uma função chamada ```metade```, que recebe uma variável contendo um número, e retorna a metade desse número:"
      ]
    },
    {
      "cell_type": "code",
      "execution_count": null,
      "metadata": {
        "id": "fiS3WdC6icvZ"
      },
      "outputs": [],
      "source": [
        "def metade(x):\n",
        "    print('rodando a função metade...')\n",
        "    print('ainda rodando...')\n",
        "    return x/2"
      ]
    },
    {
      "cell_type": "code",
      "execution_count": null,
      "metadata": {
        "id": "q8UmpySIicvZ",
        "outputId": "5e167ed9-1312-4d7a-c15e-6ce080ff0e76"
      },
      "outputs": [
        {
          "name": "stdout",
          "output_type": "stream",
          "text": [
            "rodando a função metade...\n",
            "ainda rodando...\n"
          ]
        },
        {
          "data": {
            "text/plain": [
              "117.0"
            ]
          },
          "execution_count": 22,
          "metadata": {},
          "output_type": "execute_result"
        }
      ],
      "source": [
        "variavel = metade(234)\n",
        "variavel"
      ]
    },
    {
      "cell_type": "markdown",
      "metadata": {
        "id": "eHfUkBOdicva"
      },
      "source": [
        "Vamos escrever uma função que recebe duas variáveis ```x``` e ```y```, contendo inteiros, imprime ambas, e retorna um valor *booleano* indicando se ```x``` é divisível por ```y```."
      ]
    },
    {
      "cell_type": "code",
      "execution_count": null,
      "metadata": {
        "id": "-wqO_6SDicva",
        "outputId": "c30b48ee-0e11-4206-afb9-ef6b9e3090a5"
      },
      "outputs": [
        {
          "data": {
            "text/plain": [
              "False"
            ]
          },
          "execution_count": 25,
          "metadata": {},
          "output_type": "execute_result"
        }
      ],
      "source": [
        "bool(0)"
      ]
    },
    {
      "cell_type": "code",
      "execution_count": null,
      "metadata": {
        "id": "fxMSZICUicva",
        "outputId": "6da2f9af-14d6-433d-e463-942909a63646"
      },
      "outputs": [
        {
          "data": {
            "text/plain": [
              "0"
            ]
          },
          "execution_count": 33,
          "metadata": {},
          "output_type": "execute_result"
        }
      ],
      "source": [
        "27 % 3"
      ]
    },
    {
      "cell_type": "code",
      "execution_count": null,
      "metadata": {
        "id": "IGIUFLEM0V3o"
      },
      "outputs": [],
      "source": [
        "def é_divisivel(x=11, y=2):\n",
        "    print(f'x = {x}')\n",
        "    print(f'y = {y}')\n",
        "    return x % y == 0"
      ]
    },
    {
      "cell_type": "code",
      "execution_count": null,
      "metadata": {
        "id": "7BzGnZh0icva",
        "outputId": "0fffdef7-d6d2-489b-dd21-c7a552120659"
      },
      "outputs": [
        {
          "name": "stdout",
          "output_type": "stream",
          "text": [
            "x = 42\n",
            "y = 9\n"
          ]
        },
        {
          "data": {
            "text/plain": [
              "False"
            ]
          },
          "execution_count": 37,
          "metadata": {},
          "output_type": "execute_result"
        }
      ],
      "source": [
        "é_divisivel(x=42,y=9)"
      ]
    },
    {
      "cell_type": "markdown",
      "metadata": {
        "id": "93ESLsFY0V3p"
      },
      "source": [
        "### Namespace de função\n",
        "- As variáveis **novas** que são criadas dentro de uma função estão em um **namespace** particular da função que é destruído quando a função termina de rodar.\n",
        "- Uma forma de passar o conteúdo da variável para o **namespace** global é através da instrução **return**.\n",
        "- Dentro da função é possível utilizar variáveis do **namespace** global, mas recomenda-se evitar essa prática. **Isso costuma 'dar ruim'.**\n",
        "- Utilize nomes exclusivos dentro das funções.\n",
        "- Se você quiser usar uma variável global, é preferível passá-la para o **namespace** da função explicitamente através de um argumento.\n",
        "\n",
        "Funções auxiliares:\n",
        "- locals() traz uma lista de nomes de variáveis do namespace local (dentro da função)\n",
        "- globals() traz uma lista de nomes de variáveis do namespace global (fora da função)\n"
      ]
    },
    {
      "cell_type": "code",
      "execution_count": null,
      "metadata": {
        "id": "oBeO3JZo0V3p",
        "outputId": "d9813cd5-c4b5-4953-91b1-e714b393f5ab"
      },
      "outputs": [
        {
          "name": "stdout",
          "output_type": "stream",
          "text": [
            "repolho\n",
            "150.0\n"
          ]
        }
      ],
      "source": [
        "# Variáveis exclusivas da função não vão para o namespace global\n",
        "\n",
        "variavel_exclusiva = 'repolho'\n",
        "\n",
        "def metade(x, v_excl = variavel_exclusiva):\n",
        "    # variavel_exclusiva = 'alface'\n",
        "    print(v_excl)\n",
        "    return x/2\n",
        "\n",
        "print(metade(300))\n",
        "\n"
      ]
    },
    {
      "cell_type": "code",
      "execution_count": null,
      "metadata": {
        "id": "MXn2GnS30V3q",
        "outputId": "e11351ec-885c-4334-e87f-9b715c7a8668"
      },
      "outputs": [
        {
          "name": "stdout",
          "output_type": "stream",
          "text": [
            "150.0\n"
          ]
        }
      ],
      "source": [
        "# Variável global dentro de função\n",
        "# EVITAR! - o resultado da função deve depender somente dos seus parâmetros.\n",
        "\n",
        "x = 300\n",
        "\n",
        "def metade(valor):\n",
        "    return valor/2\n",
        "\n",
        "print(metade(x))"
      ]
    },
    {
      "cell_type": "markdown",
      "metadata": {
        "id": "Qwm1hbAj0V3s"
      },
      "source": [
        "### <span style=\"color:magenta\"> Exercício\n",
        "Escreva uma função que recebe como argumento um *data frame*, o nome de uma variável numérica do *data frame*, e retorna as 5 linhas com os maiores valores da variável."
      ]
    },
    {
      "cell_type": "code",
      "execution_count": null,
      "metadata": {
        "id": "nRfcghvE0V3s",
        "outputId": "a80f4d83-2d8c-4722-eb64-a725580108b5"
      },
      "outputs": [
        {
          "data": {
            "text/html": [
              "<div>\n",
              "<style scoped>\n",
              "    .dataframe tbody tr th:only-of-type {\n",
              "        vertical-align: middle;\n",
              "    }\n",
              "\n",
              "    .dataframe tbody tr th {\n",
              "        vertical-align: top;\n",
              "    }\n",
              "\n",
              "    .dataframe thead th {\n",
              "        text-align: right;\n",
              "    }\n",
              "</style>\n",
              "<table border=\"1\" class=\"dataframe\">\n",
              "  <thead>\n",
              "    <tr style=\"text-align: right;\">\n",
              "      <th></th>\n",
              "      <th>total_bill</th>\n",
              "      <th>tip</th>\n",
              "      <th>sex</th>\n",
              "      <th>smoker</th>\n",
              "      <th>day</th>\n",
              "      <th>time</th>\n",
              "      <th>size</th>\n",
              "    </tr>\n",
              "  </thead>\n",
              "  <tbody>\n",
              "    <tr>\n",
              "      <th>143</th>\n",
              "      <td>27.05</td>\n",
              "      <td>5.0</td>\n",
              "      <td>Female</td>\n",
              "      <td>No</td>\n",
              "      <td>Thur</td>\n",
              "      <td>Lunch</td>\n",
              "      <td>6</td>\n",
              "    </tr>\n",
              "    <tr>\n",
              "      <th>156</th>\n",
              "      <td>48.17</td>\n",
              "      <td>5.0</td>\n",
              "      <td>Male</td>\n",
              "      <td>No</td>\n",
              "      <td>Sun</td>\n",
              "      <td>Dinner</td>\n",
              "      <td>6</td>\n",
              "    </tr>\n",
              "    <tr>\n",
              "      <th>125</th>\n",
              "      <td>29.80</td>\n",
              "      <td>4.2</td>\n",
              "      <td>Female</td>\n",
              "      <td>No</td>\n",
              "      <td>Thur</td>\n",
              "      <td>Lunch</td>\n",
              "      <td>6</td>\n",
              "    </tr>\n",
              "    <tr>\n",
              "      <th>141</th>\n",
              "      <td>34.30</td>\n",
              "      <td>6.7</td>\n",
              "      <td>Male</td>\n",
              "      <td>No</td>\n",
              "      <td>Thur</td>\n",
              "      <td>Lunch</td>\n",
              "      <td>6</td>\n",
              "    </tr>\n",
              "    <tr>\n",
              "      <th>185</th>\n",
              "      <td>20.69</td>\n",
              "      <td>5.0</td>\n",
              "      <td>Male</td>\n",
              "      <td>No</td>\n",
              "      <td>Sun</td>\n",
              "      <td>Dinner</td>\n",
              "      <td>5</td>\n",
              "    </tr>\n",
              "  </tbody>\n",
              "</table>\n",
              "</div>"
            ],
            "text/plain": [
              "     total_bill  tip     sex smoker   day    time  size\n",
              "143       27.05  5.0  Female     No  Thur   Lunch     6\n",
              "156       48.17  5.0    Male     No   Sun  Dinner     6\n",
              "125       29.80  4.2  Female     No  Thur   Lunch     6\n",
              "141       34.30  6.7    Male     No  Thur   Lunch     6\n",
              "185       20.69  5.0    Male     No   Sun  Dinner     5"
            ]
          },
          "execution_count": 73,
          "metadata": {},
          "output_type": "execute_result"
        }
      ],
      "source": []
    },
    {
      "cell_type": "markdown",
      "metadata": {
        "id": "fmZikIiCicvb"
      },
      "source": [
        "Exercício 2<br>\n",
        "\n",
        "\n",
        "    1. Escreva uma função que receba um valor monetário armazenado em um *float* e retorne apenas o valor dos centavos (como inteiros).\n",
        "\n",
        "    2. Some o valor de '''total_bill''' e '''tip'''.\n",
        "\n",
        "    3. Utilize o método ```apply()``` do pandas sobre a variável criada no item anterior, coloque como entrada a função criada no item *a* para criar uma nova variável com o valor dos centavos apenas.\n",
        "\n",
        "    4. Faça uma tabela de frequencias dos valores dessa variável de centavos. Tente fazer um gráfico de barras."
      ]
    },
    {
      "cell_type": "code",
      "execution_count": null,
      "metadata": {
        "id": "CTvvI4FUicvb"
      },
      "outputs": [],
      "source": []
    },
    {
      "cell_type": "markdown",
      "metadata": {
        "id": "NAQRVu4I0V3t"
      },
      "source": [
        "##  3. Controle de fluxos <a name=\"4\"></a>\n",
        "[Voltar ao índice](#topo)\n",
        "\n",
        "- instruções do tipo *if then else*\n",
        "- laço *for*\n",
        "\n",
        "São comandos utilizados para controlar o fluxo de execução do programa, como instruções do tipo **if, then, else** e *loops* **for**. Para pessoas que já têm algum contato com linguagem de programação, esses recursos funcionam de forma bem semelhante às outras linguagens com algumas peculiaridades a se destacar:\n",
        "\n",
        "- Indentação é Python. É elemento de sintaxe!\n",
        "- Como em qualquer linguagem, a sintaxe é particular do Python\n",
        "- É muito comum utilizar laços for com iteradores\n",
        "\n",
        "No exemplo abaixo temos uma variável com a idade de um cliente, e vamos emitir uma mensagem se este cliente pode comprar bebida alcoólica dependendo da idade."
      ]
    },
    {
      "cell_type": "code",
      "execution_count": null,
      "metadata": {
        "id": "Sz02T4JR0V3u",
        "outputId": "66469d97-3be3-4066-dcc2-608836a6d6d1"
      },
      "outputs": [
        {
          "name": "stdout",
          "output_type": "stream",
          "text": [
            "Não pode comprar cerveja\n"
          ]
        },
        {
          "data": {
            "text/plain": [
              "'Menor de idade'"
            ]
          },
          "execution_count": 80,
          "metadata": {},
          "output_type": "execute_result"
        }
      ],
      "source": [
        "# Observe este trecho de código.\n",
        "idade = 17\n",
        "\n",
        "if idade>=18:\n",
        "    maior_de_idade = 'Maior de idade'\n",
        "    print('Pode comprar cerveja')\n",
        "else:\n",
        "    maior_de_idade = 'Menor de idade'\n",
        "    print('Não pode comprar cerveja')\n",
        "\n",
        "maior_de_idade\n"
      ]
    },
    {
      "cell_type": "markdown",
      "metadata": {
        "id": "3Ga0ifteicvc"
      },
      "source": [
        "No exemplo abaixo, temos o período do dia armazenado em uma variável chamada ```horário```. Vamos utilizar esta mensagem para emitir uma saudação dependendo do período do dia que estiver armazenado nesta variável."
      ]
    },
    {
      "cell_type": "code",
      "execution_count": null,
      "metadata": {
        "id": "wM8fBPMK0V3t",
        "outputId": "9fdd19e0-02b5-4525-b957-224376ac9a9c"
      },
      "outputs": [
        {
          "name": "stdout",
          "output_type": "stream",
          "text": [
            "Boa noite\n"
          ]
        }
      ],
      "source": [
        "# Exemplo de uso de if then else para controle de fluxo\n",
        "horário = \"noite\"\n",
        "\n",
        "if horário == \"manhã\":\n",
        "    print(\"Bom dia\")\n",
        "\n",
        "elif horário == \"tarde\":\n",
        "    print(\"Boa tarde\")\n",
        "\n",
        "elif horário == \"noite\":\n",
        "    print(\"Boa noite\")\n",
        "\n",
        "else:\n",
        "    print(\"Olá!\")"
      ]
    },
    {
      "cell_type": "markdown",
      "metadata": {
        "id": "boRVddOx0V3w"
      },
      "source": [
        "### <span style=\"color:blue\"> Exercício </span>\n",
        "    \n",
        "Considere que estamos avaliando as variáveis da tabela ```tips```. Se a variável tiver mais que 5 valores únicos, vamos calcular a média dessa variável. Caso contrário, vamos fazer uma contagem dos possíveis valores com o ```value_clounts```.\n",
        "    \n",
        "**Escreva uma função** que recebe uma variável e retorne a análise indicada.\n",
        "\n",
        "Veja as células de auxílio abaixo:"
      ]
    },
    {
      "cell_type": "code",
      "execution_count": null,
      "metadata": {
        "id": "q2O1NafWicvd",
        "outputId": "b0d8a50f-5f38-46d7-bfd7-2f88745a864f"
      },
      "outputs": [
        {
          "data": {
            "text/plain": [
              "2.99827868852459"
            ]
          },
          "execution_count": 81,
          "metadata": {},
          "output_type": "execute_result"
        }
      ],
      "source": [
        "# Auxílio 1: Calculando a média\n",
        "var = 'tip'\n",
        "tips[var].mean()"
      ]
    },
    {
      "cell_type": "code",
      "execution_count": null,
      "metadata": {
        "id": "-8uBMFH3icvd",
        "outputId": "b9fbc9ae-a120-48a7-f924-3d6527fc570a"
      },
      "outputs": [
        {
          "data": {
            "text/plain": [
              "Male      157\n",
              "Female     87\n",
              "Name: sex, dtype: int64"
            ]
          },
          "execution_count": 82,
          "metadata": {},
          "output_type": "execute_result"
        }
      ],
      "source": [
        "# Auxílio 2: contagem de valores\n",
        "var = 'sex'\n",
        "tips[var].value_counts()"
      ]
    },
    {
      "cell_type": "code",
      "execution_count": null,
      "metadata": {
        "id": "5X9GmfiYicvh",
        "outputId": "5449e98a-dd15-403d-e316-8e31a72b7361"
      },
      "outputs": [
        {
          "data": {
            "text/plain": [
              "123"
            ]
          },
          "execution_count": 83,
          "metadata": {},
          "output_type": "execute_result"
        }
      ],
      "source": [
        "# Auxílio 3: verificando número de valores únicos\n",
        "var = 'tip'\n",
        "tips[var].nunique()"
      ]
    },
    {
      "cell_type": "markdown",
      "metadata": {
        "id": "FvWoI8u0icvh"
      },
      "source": [
        "A sua tarefa é escrever uma função que receba o nome da variável, e calcule a média ou faça o ```value_counts()```conforme o caso."
      ]
    },
    {
      "cell_type": "code",
      "execution_count": null,
      "metadata": {
        "id": "-OjPtSCV0V3x"
      },
      "outputs": [],
      "source": [
        "def analise(var):\n",
        "    # Seu código aqui\n"
      ]
    },
    {
      "cell_type": "code",
      "execution_count": null,
      "metadata": {
        "id": "DRuTpzcdicvh",
        "outputId": "390dd6ce-5d77-4bbe-b887-759cd5496758"
      },
      "outputs": [
        {
          "name": "stdout",
          "output_type": "stream",
          "text": [
            "Muitas categorias. Calcular média.\n",
            "A média de total_bill é: 19.79\n"
          ]
        }
      ],
      "source": [
        "# Testar a função\n",
        "analise('total_bill')"
      ]
    },
    {
      "cell_type": "code",
      "execution_count": null,
      "metadata": {
        "id": "syJN-gB-icvh",
        "outputId": "094db57c-e09c-465b-d5e8-a3ebc43a300a"
      },
      "outputs": [
        {
          "data": {
            "text/plain": [
              "19.785942622950824"
            ]
          },
          "execution_count": 46,
          "metadata": {},
          "output_type": "execute_result"
        }
      ],
      "source": [
        "tips.total_bill.mean()"
      ]
    },
    {
      "cell_type": "code",
      "execution_count": null,
      "metadata": {
        "id": "ejaKclXiicvh"
      },
      "outputs": [],
      "source": [
        "# Testar a função\n",
        "analise('tip')"
      ]
    },
    {
      "cell_type": "code",
      "execution_count": null,
      "metadata": {
        "id": "B4e4iGo3icvi"
      },
      "outputs": [],
      "source": []
    },
    {
      "cell_type": "markdown",
      "metadata": {
        "id": "iWdr4r340V3y"
      },
      "source": [
        "### Laço *for* e Iteradores\n",
        "\n",
        "No Python, o laço *for* funciona em conjunto com iteradores, diferente de outras linguagens. Um iterador é uma coleção de dados pela qual o laço *for* percorre. A cada iteração, a variável indicada (```i``` sendo um nome bem comum) recebe um elemento diferente do iterador, e em seguida percorre o trecho de código dentro do laço *for*.\n",
        "\n",
        "Vejamos alguns exemplos:"
      ]
    },
    {
      "cell_type": "code",
      "execution_count": null,
      "metadata": {
        "id": "pYDUBxXn0V3y",
        "outputId": "a29b78ee-b2de-4256-8553-12d6cd246bf1"
      },
      "outputs": [
        {
          "name": "stdout",
          "output_type": "stream",
          "text": [
            "0\n",
            "oi\n",
            "1\n",
            "oi\n",
            "2\n",
            "oi\n",
            "3\n",
            "oi\n",
            "4\n",
            "oi\n",
            "5\n",
            "oi\n",
            "6\n",
            "oi\n",
            "7\n",
            "oi\n",
            "8\n",
            "oi\n",
            "9\n",
            "oi\n"
          ]
        }
      ],
      "source": [
        "# Uma estrutura bem comum de laço for, bem semelhante a outras linguagens\n",
        "# O iterador aqui é gerado pelo comando range(10)\n",
        "\n",
        "# Obs 1: os índices em Python por padrão iniciam em zero\n",
        "# Obs 2: o último elemento não entra no iterador\n",
        "# Obs 3: O número de iterações é o parâmetro do range\n",
        "\n",
        "# do i =1 to 5;\n",
        "\n",
        "# end;\n",
        "for i in range(10):\n",
        "    print(i)\n",
        "    print('oi')\n"
      ]
    },
    {
      "cell_type": "code",
      "execution_count": null,
      "metadata": {
        "id": "s8Vl6u2W0V30",
        "outputId": "971c52bd-40a6-47e0-db8a-1978508aec0c"
      },
      "outputs": [
        {
          "data": {
            "text/plain": [
              "range(0, 9999999999999999)"
            ]
          },
          "execution_count": 6,
          "metadata": {},
          "output_type": "execute_result"
        }
      ],
      "source": [
        "# iteradores (instrução para o laço for)\n",
        "range(5)"
      ]
    },
    {
      "cell_type": "code",
      "execution_count": null,
      "metadata": {
        "id": "D0K8-EaJ0V31",
        "outputId": "d0de3481-7c87-44ef-d2b2-3cf459deac4b"
      },
      "outputs": [
        {
          "data": {
            "text/plain": [
              "[0, 1, 2, 3, 4]"
            ]
          },
          "execution_count": 7,
          "metadata": {},
          "output_type": "execute_result"
        }
      ],
      "source": [
        "list(range(5))"
      ]
    },
    {
      "cell_type": "markdown",
      "metadata": {
        "id": "KQNvR_DD0V31"
      },
      "source": [
        "### Função range\n",
        "\n",
        "A função ```range``` pode ser usada com apenas um parâmetro como vimos, mas pode ser utilizada com até três parâmetros: range(inicio, fim, passo)\n",
        "\n",
        "Veja alguns exemplos de funcionamento:"
      ]
    },
    {
      "cell_type": "code",
      "execution_count": null,
      "metadata": {
        "id": "Ya8GyGeK0V32",
        "outputId": "b1d8a017-854e-4bd1-f209-533560a14222"
      },
      "outputs": [
        {
          "data": {
            "text/plain": [
              "range(0, 4)"
            ]
          },
          "execution_count": 45,
          "metadata": {},
          "output_type": "execute_result"
        }
      ],
      "source": [
        "#observe que o output não é uma lista, é um iterador.\n",
        "#esse iterador é apenas uma instrução, que só será executada quando solicitado\n",
        "range(4)"
      ]
    },
    {
      "cell_type": "code",
      "execution_count": null,
      "metadata": {
        "id": "TonkvU5G0V32",
        "outputId": "19cba5de-a245-4d5a-b5a5-7c22944ebbf8"
      },
      "outputs": [
        {
          "data": {
            "text/plain": [
              "range(2, 5)"
            ]
          },
          "execution_count": 11,
          "metadata": {},
          "output_type": "execute_result"
        }
      ],
      "source": [
        "# observe que criamos uma lista iniciada em 2, e finalizada em 3.\n",
        "range(2,5)"
      ]
    },
    {
      "cell_type": "code",
      "execution_count": null,
      "metadata": {
        "id": "Y7RWrHwj0V33",
        "outputId": "3b22e522-8638-4794-fd5b-0dbcc49f87cf"
      },
      "outputs": [
        {
          "data": {
            "text/plain": [
              "[2, 3, 4]"
            ]
          },
          "execution_count": 10,
          "metadata": {},
          "output_type": "execute_result"
        }
      ],
      "source": [
        "# para observar a lista propriamente dita, precisamos da função list\n",
        "list(range(2,5))"
      ]
    },
    {
      "cell_type": "code",
      "execution_count": null,
      "metadata": {
        "id": "2v3PIkAz0V33",
        "outputId": "5cf3d8ff-d0ff-40af-d418-5cfbdc92c468"
      },
      "outputs": [
        {
          "data": {
            "text/plain": [
              "[2, 4, 6, 8]"
            ]
          },
          "execution_count": 12,
          "metadata": {},
          "output_type": "execute_result"
        }
      ],
      "source": [
        "# Já deu pra entender que o primeiro parâmetro é o início da lista e o segundo o final\n",
        "# Podemos ainda colocar um terceiro parâmetro que é o by (de quanto em quanto)\n",
        "list(range(2,10,2))"
      ]
    },
    {
      "cell_type": "markdown",
      "metadata": {
        "id": "UkNSb9lJ0V34"
      },
      "source": [
        "### Uma lista é um iterador!"
      ]
    },
    {
      "cell_type": "code",
      "execution_count": null,
      "metadata": {
        "id": "_ym_d-E8icvj",
        "outputId": "afbb15bd-2d23-4383-87a3-86a0568b9ef7"
      },
      "outputs": [
        {
          "data": {
            "text/plain": [
              "['batata', 'arroz', 'feijão']"
            ]
          },
          "execution_count": 46,
          "metadata": {},
          "output_type": "execute_result"
        }
      ],
      "source": [
        "ingredientes_em_falta = [\"batata\", \"arroz\", \"feijão\"]\n",
        "ingredientes_em_falta"
      ]
    },
    {
      "cell_type": "code",
      "execution_count": null,
      "metadata": {
        "id": "61pos6_W0V34",
        "outputId": "59672dd6-198f-471c-fb43-6414ca9a810e"
      },
      "outputs": [
        {
          "name": "stdout",
          "output_type": "stream",
          "text": [
            "Não tem batata\n",
            "Não tem arroz\n",
            "Não tem feijão\n"
          ]
        }
      ],
      "source": [
        "# Neste trecho, o iterador é a lista \"ingredientes_em_falta\"\n",
        "\n",
        "ingredientes_em_falta = [\"batata\", \"arroz\", \"feijão\"]\n",
        "\n",
        "for ingrediente in ingredientes_em_falta:\n",
        "    print(\"Não tem \" + ingrediente)"
      ]
    },
    {
      "cell_type": "markdown",
      "metadata": {
        "id": "1cTPx1S70V36"
      },
      "source": [
        "### <span style=\"color:blue\"> Exercícios\n",
        "1) Partindo de uma lista de ganhos e perdas, em que perdas são ganhos negativos, some somente os valores das perdas na variável ```perda_total```."
      ]
    },
    {
      "cell_type": "code",
      "execution_count": null,
      "metadata": {
        "id": "woimTIAm0V37",
        "outputId": "44653a0d-5f65-4276-e7be-4a87c408a74a"
      },
      "outputs": [
        {
          "data": {
            "text/plain": [
              "554"
            ]
          },
          "execution_count": 110,
          "metadata": {},
          "output_type": "execute_result"
        }
      ],
      "source": [
        "ganhos_e_perdas = [257, -300, 1284, -15, 287, 401, -239]\n",
        "perda_total = 0\n",
        "\n",
        "# seu código aqui"
      ]
    },
    {
      "cell_type": "markdown",
      "metadata": {
        "id": "tFVBkMXH0V38"
      },
      "source": [
        "2) Em uma lista de contratos de crédito, temos a quantidade de dias em atraso desses contratos. Conte quantos estão em situação \"boa\" (atraso < 30), \"média\" (atraso entre 31 e 90 dias) e \"ruim\" (91 dias ou mais)."
      ]
    },
    {
      "cell_type": "code",
      "execution_count": null,
      "metadata": {
        "id": "VgcU9Mlf0V38",
        "outputId": "bcca58db-2740-4693-8fb0-384469b6827d"
      },
      "outputs": [
        {
          "name": "stdout",
          "output_type": "stream",
          "text": [
            "9\n",
            "3\n",
            "3\n"
          ]
        }
      ],
      "source": [
        "dias_atraso = [0, 0, 5, 120, 47, 31, 91, 90, 2, 0, 0, 31, 0, 0, 30]\n",
        "qtd_boa = 0\n",
        "qtd_media = 0\n",
        "qtd_ruim = 0\n",
        "\n",
        "#seu código aqui"
      ]
    },
    {
      "cell_type": "markdown",
      "metadata": {
        "id": "XS5bz9HGicvk"
      },
      "source": [
        "### <span style=\"color:blue\"> Exercício 2</span>\n",
        "\n",
        "Escreva uma função que receba uma lista com os nomes das variáveis, e rode a função ```analise``` criada no bloco anterior, e rode em cada uma das variáveis da lista no dataframe tips."
      ]
    },
    {
      "cell_type": "code",
      "execution_count": null,
      "metadata": {
        "id": "ADRQKZ7Nicvk"
      },
      "outputs": [],
      "source": []
    }
  ],
  "metadata": {
    "colab": {
      "provenance": [],
      "include_colab_link": true
    },
    "kernelspec": {
      "display_name": "Python 3 (ipykernel)",
      "language": "python",
      "name": "python3"
    },
    "language_info": {
      "codemirror_mode": {
        "name": "ipython",
        "version": 3
      },
      "file_extension": ".py",
      "mimetype": "text/x-python",
      "name": "python",
      "nbconvert_exporter": "python",
      "pygments_lexer": "ipython3",
      "version": "3.10.9"
    },
    "toc": {
      "base_numbering": 1,
      "nav_menu": {},
      "number_sections": false,
      "sideBar": true,
      "skip_h1_title": true,
      "title_cell": "Índice",
      "title_sidebar": "Conteúdo",
      "toc_cell": true,
      "toc_position": {},
      "toc_section_display": true,
      "toc_window_display": false
    },
    "varInspector": {
      "cols": {
        "lenName": 16,
        "lenType": 16,
        "lenVar": 40
      },
      "kernels_config": {
        "python": {
          "delete_cmd_postfix": "",
          "delete_cmd_prefix": "del ",
          "library": "var_list.py",
          "varRefreshCmd": "print(var_dic_list())"
        },
        "r": {
          "delete_cmd_postfix": ") ",
          "delete_cmd_prefix": "rm(",
          "library": "var_list.r",
          "varRefreshCmd": "cat(var_dic_list()) "
        }
      },
      "types_to_exclude": [
        "module",
        "function",
        "builtin_function_or_method",
        "instance",
        "_Feature"
      ],
      "window_display": false
    }
  },
  "nbformat": 4,
  "nbformat_minor": 0
}