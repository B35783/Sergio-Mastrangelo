{
  "cells": [
    {
      "cell_type": "markdown",
      "metadata": {
        "id": "view-in-github",
        "colab_type": "text"
      },
      "source": [
        "<a href=\"https://colab.research.google.com/github/B35783/Sergio-Mastrangelo/blob/main/AplicadaSergioMast.ipynb\" target=\"_parent\"><img src=\"https://colab.research.google.com/assets/colab-badge.svg\" alt=\"Open In Colab\"/></a>"
      ]
    },
    {
      "cell_type": "code",
      "execution_count": null,
      "metadata": {
        "colab": {
          "background_save": true,
          "base_uri": "https://localhost:8080/"
        },
        "id": "cJ94YdXUKkYX",
        "outputId": "a54d2d64-3366-4e06-d9ac-2b26cbb5b88f"
      },
      "outputs": [
        {
          "name": "stderr",
          "output_type": "stream",
          "text": [
            "Installing package into ‘/usr/local/lib/R/site-library’\n",
            "(as ‘lib’ is unspecified)\n",
            "\n",
            "Loading required package: devtools\n",
            "\n",
            "Loading required package: usethis\n",
            "\n",
            "Downloading GitHub repo pedrocostaferreira/BETS@HEAD\n",
            "\n"
          ]
        },
        {
          "name": "stdout",
          "output_type": "stream",
          "text": [
            "lazyeval     (NA     -> 0.2.2    ) [CRAN]\n",
            "zoo          (NA     -> 1.8-14   ) [CRAN]\n",
            "plogr        (NA     -> 0.2.0    ) [CRAN]\n",
            "proto        (NA     -> 1.0.0    ) [CRAN]\n",
            "TTR          (NA     -> 0.24.4   ) [CRAN]\n",
            "xts          (NA     -> 0.14.1   ) [CRAN]\n",
            "quantmod     (NA     -> 0.4.27   ) [CRAN]\n",
            "quadprog     (NA     -> 1.5-8    ) [CRAN]\n",
            "crosstalk    (NA     -> 1.2.1    ) [CRAN]\n",
            "bitops       (NA     -> 1.0-9    ) [CRAN]\n",
            "x13binary    (NA     -> 1.1.61   ) [CRAN]\n",
            "chron        (NA     -> 2.3-62   ) [CRAN]\n",
            "RSQLite      (NA     -> 2.4.1    ) [CRAN]\n",
            "gsubfn       (NA     -> 0.7      ) [CRAN]\n",
            "RcppArmad... (NA     -> 14.4.3-1 ) [CRAN]\n",
            "urca         (NA     -> 1.3-4    ) [CRAN]\n",
            "tseries      (NA     -> 0.10-58  ) [CRAN]\n",
            "timeDate     (NA     -> 4041.110 ) [CRAN]\n",
            "lmtest       (NA     -> 0.9-40   ) [CRAN]\n",
            "fracdiff     (NA     -> 1.5-3    ) [CRAN]\n",
            "colorspace   (NA     -> 2.1-1    ) [CRAN]\n",
            "data.table   (1.17.4 -> 1.17.6   ) [CRAN]\n",
            "rjson        (NA     -> 0.2.23   ) [CRAN]\n",
            "RMySQL       (NA     -> 0.11.1   ) [CRAN]\n",
            "webshot      (NA     -> 0.5.5    ) [CRAN]\n",
            "DT           (NA     -> 0.33     ) [CRAN]\n",
            "RCurl        (NA     -> 1.98-1.17) [CRAN]\n",
            "dygraphs     (NA     -> 1.1.1.6  ) [CRAN]\n",
            "seasonal     (NA     -> 1.10.0   ) [CRAN]\n",
            "sqldf        (NA     -> 0.4-11   ) [CRAN]\n",
            "forecast     (NA     -> 8.24.0   ) [CRAN]\n",
            "plotly       (NA     -> 4.10.4   ) [CRAN]\n",
            "grnn         (NA     -> 0.1.0    ) [CRAN]\n"
          ]
        },
        {
          "name": "stderr",
          "output_type": "stream",
          "text": [
            "Installing 33 packages: lazyeval, zoo, plogr, proto, TTR, xts, quantmod, quadprog, crosstalk, bitops, x13binary, chron, RSQLite, gsubfn, RcppArmadillo, urca, tseries, timeDate, lmtest, fracdiff, colorspace, data.table, rjson, RMySQL, webshot, DT, RCurl, dygraphs, seasonal, sqldf, forecast, plotly, grnn\n",
            "\n",
            "Installing packages into ‘/usr/local/lib/R/site-library’\n",
            "(as ‘lib’ is unspecified)\n",
            "\n"
          ]
        },
        {
          "name": "stdout",
          "output_type": "stream",
          "text": [
            "\u001b[36m──\u001b[39m \u001b[36mR CMD build\u001b[39m \u001b[36m─────────────────────────────────────────────────────────────────\u001b[39m\n",
            "* checking for file ‘/tmp/Rtmp7rshku/remotes3b91d686278/pedrocostaferreira-BETS-4a34b25/DESCRIPTION’ ... OK\n",
            "* preparing ‘BETS’:\n",
            "* checking DESCRIPTION meta-information ... OK\n",
            "* checking for LF line-endings in source and make files and shell scripts\n",
            "* checking for empty or unneeded directories\n",
            "Omitted ‘LazyData’ from DESCRIPTION\n",
            "* building ‘BETS_0.3.2.tar.gz’\n",
            "\n"
          ]
        },
        {
          "name": "stderr",
          "output_type": "stream",
          "text": [
            "Installing package into ‘/usr/local/lib/R/site-library’\n",
            "(as ‘lib’ is unspecified)\n",
            "\n",
            "Loading required package: BETS\n",
            "\n",
            "Registered S3 method overwritten by 'quantmod':\n",
            "  method            from\n",
            "  as.zoo.data.frame zoo \n",
            "\n"
          ]
        }
      ],
      "source": [
        "install.packages(\"devtools\")\n",
        "require(devtools)\n",
        "install_github(\"pedrocostaferreira/BETS\",force = TRUE)\n",
        "require(BETS)"
      ]
    },
    {
      "cell_type": "markdown",
      "metadata": {
        "id": "9_rGmOVEKwYH"
      },
      "source": []
    },
    {
      "cell_type": "code",
      "execution_count": null,
      "metadata": {
        "colab": {
          "background_save": true
        },
        "id": "79fd8412",
        "outputId": "a9023e3f-d4d8-4070-8d54-b62007400c71"
      },
      "outputs": [
        {
          "ename": "ERROR",
          "evalue": "Error in parse(text = input): <text>:1:6: unexpected symbol\n1: !pip install\n         ^\n",
          "output_type": "error",
          "traceback": [
            "Error in parse(text = input): <text>:1:6: unexpected symbol\n1: !pip install\n         ^\nTraceback:\n"
          ]
        }
      ],
      "source": []
    }
  ],
  "metadata": {
    "colab": {
      "provenance": [],
      "authorship_tag": "ABX9TyORTCxNYqu0gUwFrLZFattI",
      "include_colab_link": true
    },
    "kernelspec": {
      "display_name": "R",
      "name": "ir"
    },
    "language_info": {
      "name": "R"
    }
  },
  "nbformat": 4,
  "nbformat_minor": 0
}